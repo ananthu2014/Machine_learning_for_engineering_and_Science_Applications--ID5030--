{
 "cells": [
  {
   "cell_type": "markdown",
   "id": "027f926c",
   "metadata": {},
   "source": [
    "#### Q.1) Import necessary libraries"
   ]
  },
  {
   "cell_type": "code",
   "execution_count": 699,
   "id": "bfff1738",
   "metadata": {},
   "outputs": [],
   "source": [
    "import numpy as np\n",
    "import matplotlib.pyplot as plt\n",
    "import torch\n",
    "import torch.nn as nn\n",
    "import pandas as pd\n",
    "from sklearn.metrics import mean_squared_error,r2_score,mean_absolute_error\n",
    "from sklearn.model_selection import train_test_split\n",
    "from sklearn.preprocessing import StandardScaler\n",
    "from torch.utils.data import DataLoader, TensorDataset\n",
    "import copy\n",
    "import datetime"
   ]
  },
  {
   "cell_type": "code",
   "execution_count": 634,
   "id": "6b74028c",
   "metadata": {},
   "outputs": [
    {
     "name": "stdout",
     "output_type": "stream",
     "text": [
      "cuda\n"
     ]
    }
   ],
   "source": [
    "device ='cuda' if torch.cuda.is_available() else 'cpu'\n",
    "print(device)"
   ]
  },
  {
   "cell_type": "markdown",
   "id": "24fb4dfe",
   "metadata": {},
   "source": [
    "#### Q.2) Load the given data"
   ]
  },
  {
   "cell_type": "code",
   "execution_count": 635,
   "id": "d5b09905",
   "metadata": {},
   "outputs": [],
   "source": [
    "df=pd.read_csv('/home/agcl/Downloads/rnn_dataset.csv')"
   ]
  },
  {
   "cell_type": "code",
   "execution_count": 636,
   "id": "e1a42877",
   "metadata": {},
   "outputs": [
    {
     "data": {
      "text/html": [
       "<div>\n",
       "<style scoped>\n",
       "    .dataframe tbody tr th:only-of-type {\n",
       "        vertical-align: middle;\n",
       "    }\n",
       "\n",
       "    .dataframe tbody tr th {\n",
       "        vertical-align: top;\n",
       "    }\n",
       "\n",
       "    .dataframe thead th {\n",
       "        text-align: right;\n",
       "    }\n",
       "</style>\n",
       "<table border=\"1\" class=\"dataframe\">\n",
       "  <thead>\n",
       "    <tr style=\"text-align: right;\">\n",
       "      <th></th>\n",
       "      <th>Datetime</th>\n",
       "      <th>PJMW_MW</th>\n",
       "    </tr>\n",
       "  </thead>\n",
       "  <tbody>\n",
       "    <tr>\n",
       "      <th>0</th>\n",
       "      <td>2002-12-31 01:00:00</td>\n",
       "      <td>5077.0</td>\n",
       "    </tr>\n",
       "    <tr>\n",
       "      <th>1</th>\n",
       "      <td>2002-12-31 02:00:00</td>\n",
       "      <td>4939.0</td>\n",
       "    </tr>\n",
       "    <tr>\n",
       "      <th>2</th>\n",
       "      <td>2002-12-31 03:00:00</td>\n",
       "      <td>4885.0</td>\n",
       "    </tr>\n",
       "    <tr>\n",
       "      <th>3</th>\n",
       "      <td>2002-12-31 04:00:00</td>\n",
       "      <td>4857.0</td>\n",
       "    </tr>\n",
       "    <tr>\n",
       "      <th>4</th>\n",
       "      <td>2002-12-31 05:00:00</td>\n",
       "      <td>4930.0</td>\n",
       "    </tr>\n",
       "    <tr>\n",
       "      <th>...</th>\n",
       "      <td>...</td>\n",
       "      <td>...</td>\n",
       "    </tr>\n",
       "    <tr>\n",
       "      <th>143201</th>\n",
       "      <td>2018-01-01 20:00:00</td>\n",
       "      <td>8401.0</td>\n",
       "    </tr>\n",
       "    <tr>\n",
       "      <th>143202</th>\n",
       "      <td>2018-01-01 21:00:00</td>\n",
       "      <td>8373.0</td>\n",
       "    </tr>\n",
       "    <tr>\n",
       "      <th>143203</th>\n",
       "      <td>2018-01-01 22:00:00</td>\n",
       "      <td>8238.0</td>\n",
       "    </tr>\n",
       "    <tr>\n",
       "      <th>143204</th>\n",
       "      <td>2018-01-01 23:00:00</td>\n",
       "      <td>7958.0</td>\n",
       "    </tr>\n",
       "    <tr>\n",
       "      <th>143205</th>\n",
       "      <td>2018-01-02 00:00:00</td>\n",
       "      <td>7691.0</td>\n",
       "    </tr>\n",
       "  </tbody>\n",
       "</table>\n",
       "<p>143206 rows × 2 columns</p>\n",
       "</div>"
      ],
      "text/plain": [
       "                   Datetime  PJMW_MW\n",
       "0       2002-12-31 01:00:00   5077.0\n",
       "1       2002-12-31 02:00:00   4939.0\n",
       "2       2002-12-31 03:00:00   4885.0\n",
       "3       2002-12-31 04:00:00   4857.0\n",
       "4       2002-12-31 05:00:00   4930.0\n",
       "...                     ...      ...\n",
       "143201  2018-01-01 20:00:00   8401.0\n",
       "143202  2018-01-01 21:00:00   8373.0\n",
       "143203  2018-01-01 22:00:00   8238.0\n",
       "143204  2018-01-01 23:00:00   7958.0\n",
       "143205  2018-01-02 00:00:00   7691.0\n",
       "\n",
       "[143206 rows x 2 columns]"
      ]
     },
     "execution_count": 636,
     "metadata": {},
     "output_type": "execute_result"
    }
   ],
   "source": [
    "df"
   ]
  },
  {
   "cell_type": "code",
   "execution_count": 637,
   "id": "9229258d",
   "metadata": {},
   "outputs": [
    {
     "name": "stdout",
     "output_type": "stream",
     "text": [
      "143206\n"
     ]
    }
   ],
   "source": [
    "print(df.shape[0])"
   ]
  },
  {
   "cell_type": "code",
   "execution_count": 638,
   "id": "bfe270b6",
   "metadata": {},
   "outputs": [
    {
     "data": {
      "text/plain": [
       "<AxesSubplot:xlabel='Datetime'>"
      ]
     },
     "execution_count": 638,
     "metadata": {},
     "output_type": "execute_result"
    },
    {
     "data": {
      "image/png": "[encoded data removed]",
      "text/plain": [
       "<Figure size 500x300 with 1 Axes>"
      ]
     },
     "metadata": {},
     "output_type": "display_data"
    }
   ],
   "source": [
    "# Convert the 'Datetime' column to a datetime data type\n",
    "df['Datetime'] = pd.to_datetime(df['Datetime'], infer_datetime_format=True)\n",
    "\n",
    "# Sort the DataFrame by the 'Datetime' column in ascending order\n",
    "df = df.sort_values('Datetime')\n",
    "\n",
    "# Set the 'Datetime' column as the index of the DataFrame\n",
    "df.set_index('Datetime', inplace=True)\n",
    "\n",
    "# Plot the time-series data of the 'PJMW_MW' column\n",
    "df['PJMW_MW'].plot(c='g', figsize=(5, 3))"
   ]
  },
  {
   "cell_type": "code",
   "execution_count": 639,
   "id": "ab3d675c",
   "metadata": {},
   "outputs": [
    {
     "data": {
      "text/html": [
       "<div>\n",
       "<style scoped>\n",
       "    .dataframe tbody tr th:only-of-type {\n",
       "        vertical-align: middle;\n",
       "    }\n",
       "\n",
       "    .dataframe tbody tr th {\n",
       "        vertical-align: top;\n",
       "    }\n",
       "\n",
       "    .dataframe thead th {\n",
       "        text-align: right;\n",
       "    }\n",
       "</style>\n",
       "<table border=\"1\" class=\"dataframe\">\n",
       "  <thead>\n",
       "    <tr style=\"text-align: right;\">\n",
       "      <th></th>\n",
       "      <th>PJMW_MW</th>\n",
       "    </tr>\n",
       "    <tr>\n",
       "      <th>Datetime</th>\n",
       "      <th></th>\n",
       "    </tr>\n",
       "  </thead>\n",
       "  <tbody>\n",
       "    <tr>\n",
       "      <th>2002-04-01 01:00:00</th>\n",
       "      <td>4374.0</td>\n",
       "    </tr>\n",
       "    <tr>\n",
       "      <th>2002-04-01 02:00:00</th>\n",
       "      <td>4306.0</td>\n",
       "    </tr>\n",
       "    <tr>\n",
       "      <th>2002-04-01 03:00:00</th>\n",
       "      <td>4322.0</td>\n",
       "    </tr>\n",
       "    <tr>\n",
       "      <th>2002-04-01 04:00:00</th>\n",
       "      <td>4359.0</td>\n",
       "    </tr>\n",
       "    <tr>\n",
       "      <th>2002-04-01 05:00:00</th>\n",
       "      <td>4436.0</td>\n",
       "    </tr>\n",
       "    <tr>\n",
       "      <th>...</th>\n",
       "      <td>...</td>\n",
       "    </tr>\n",
       "    <tr>\n",
       "      <th>2018-08-02 20:00:00</th>\n",
       "      <td>6545.0</td>\n",
       "    </tr>\n",
       "    <tr>\n",
       "      <th>2018-08-02 21:00:00</th>\n",
       "      <td>6496.0</td>\n",
       "    </tr>\n",
       "    <tr>\n",
       "      <th>2018-08-02 22:00:00</th>\n",
       "      <td>6325.0</td>\n",
       "    </tr>\n",
       "    <tr>\n",
       "      <th>2018-08-02 23:00:00</th>\n",
       "      <td>5892.0</td>\n",
       "    </tr>\n",
       "    <tr>\n",
       "      <th>2018-08-03 00:00:00</th>\n",
       "      <td>5489.0</td>\n",
       "    </tr>\n",
       "  </tbody>\n",
       "</table>\n",
       "<p>143206 rows × 1 columns</p>\n",
       "</div>"
      ],
      "text/plain": [
       "                     PJMW_MW\n",
       "Datetime                    \n",
       "2002-04-01 01:00:00   4374.0\n",
       "2002-04-01 02:00:00   4306.0\n",
       "2002-04-01 03:00:00   4322.0\n",
       "2002-04-01 04:00:00   4359.0\n",
       "2002-04-01 05:00:00   4436.0\n",
       "...                      ...\n",
       "2018-08-02 20:00:00   6545.0\n",
       "2018-08-02 21:00:00   6496.0\n",
       "2018-08-02 22:00:00   6325.0\n",
       "2018-08-02 23:00:00   5892.0\n",
       "2018-08-03 00:00:00   5489.0\n",
       "\n",
       "[143206 rows x 1 columns]"
      ]
     },
     "execution_count": 639,
     "metadata": {},
     "output_type": "execute_result"
    }
   ],
   "source": [
    "df"
   ]
  },
  {
   "cell_type": "code",
   "execution_count": 640,
   "id": "e662e695",
   "metadata": {},
   "outputs": [
    {
     "data": {
      "text/html": [
       "<div>\n",
       "<style scoped>\n",
       "    .dataframe tbody tr th:only-of-type {\n",
       "        vertical-align: middle;\n",
       "    }\n",
       "\n",
       "    .dataframe tbody tr th {\n",
       "        vertical-align: top;\n",
       "    }\n",
       "\n",
       "    .dataframe thead th {\n",
       "        text-align: right;\n",
       "    }\n",
       "</style>\n",
       "<table border=\"1\" class=\"dataframe\">\n",
       "  <thead>\n",
       "    <tr style=\"text-align: right;\">\n",
       "      <th></th>\n",
       "      <th>values</th>\n",
       "    </tr>\n",
       "    <tr>\n",
       "      <th>Datetime</th>\n",
       "      <th></th>\n",
       "    </tr>\n",
       "  </thead>\n",
       "  <tbody>\n",
       "    <tr>\n",
       "      <th>2002-04-01 01:00:00</th>\n",
       "      <td>4374.0</td>\n",
       "    </tr>\n",
       "    <tr>\n",
       "      <th>2002-04-01 02:00:00</th>\n",
       "      <td>4306.0</td>\n",
       "    </tr>\n",
       "    <tr>\n",
       "      <th>2002-04-01 03:00:00</th>\n",
       "      <td>4322.0</td>\n",
       "    </tr>\n",
       "    <tr>\n",
       "      <th>2002-04-01 04:00:00</th>\n",
       "      <td>4359.0</td>\n",
       "    </tr>\n",
       "    <tr>\n",
       "      <th>2002-04-01 05:00:00</th>\n",
       "      <td>4436.0</td>\n",
       "    </tr>\n",
       "    <tr>\n",
       "      <th>...</th>\n",
       "      <td>...</td>\n",
       "    </tr>\n",
       "    <tr>\n",
       "      <th>2018-08-02 20:00:00</th>\n",
       "      <td>6545.0</td>\n",
       "    </tr>\n",
       "    <tr>\n",
       "      <th>2018-08-02 21:00:00</th>\n",
       "      <td>6496.0</td>\n",
       "    </tr>\n",
       "    <tr>\n",
       "      <th>2018-08-02 22:00:00</th>\n",
       "      <td>6325.0</td>\n",
       "    </tr>\n",
       "    <tr>\n",
       "      <th>2018-08-02 23:00:00</th>\n",
       "      <td>5892.0</td>\n",
       "    </tr>\n",
       "    <tr>\n",
       "      <th>2018-08-03 00:00:00</th>\n",
       "      <td>5489.0</td>\n",
       "    </tr>\n",
       "  </tbody>\n",
       "</table>\n",
       "<p>143206 rows × 1 columns</p>\n",
       "</div>"
      ],
      "text/plain": [
       "                     values\n",
       "Datetime                   \n",
       "2002-04-01 01:00:00  4374.0\n",
       "2002-04-01 02:00:00  4306.0\n",
       "2002-04-01 03:00:00  4322.0\n",
       "2002-04-01 04:00:00  4359.0\n",
       "2002-04-01 05:00:00  4436.0\n",
       "...                     ...\n",
       "2018-08-02 20:00:00  6545.0\n",
       "2018-08-02 21:00:00  6496.0\n",
       "2018-08-02 22:00:00  6325.0\n",
       "2018-08-02 23:00:00  5892.0\n",
       "2018-08-03 00:00:00  5489.0\n",
       "\n",
       "[143206 rows x 1 columns]"
      ]
     },
     "execution_count": 640,
     "metadata": {},
     "output_type": "execute_result"
    }
   ],
   "source": [
    "df=df.rename(columns={'PJMW_MW':'values'})\n",
    "df"
   ]
  },
  {
   "cell_type": "code",
   "execution_count": 641,
   "id": "e1712358",
   "metadata": {},
   "outputs": [
    {
     "data": {
      "text/plain": [
       "array([[4374.],\n",
       "       [4306.],\n",
       "       [4322.],\n",
       "       ...,\n",
       "       [6325.],\n",
       "       [5892.],\n",
       "       [5489.]])"
      ]
     },
     "execution_count": 641,
     "metadata": {},
     "output_type": "execute_result"
    }
   ],
   "source": [
    "data=np.array(df)\n",
    "data"
   ]
  },
  {
   "cell_type": "code",
   "execution_count": 642,
   "id": "f5ed9339",
   "metadata": {},
   "outputs": [],
   "source": [
    "def prepare_data(data,n_features):\n",
    "    '''Here, this function generates time-lagged observations of data and prepares dependent \n",
    "    and independent features by shifting the given data.'''\n",
    "    y=[]\n",
    "    for i in range(len(data)-100):\n",
    "        y.append(data[i+100])\n",
    "    x=np.empty((((n_features,len(y)))))\n",
    "    for i in range(len(y)):\n",
    "        x[:,i]=data[i:100+i].reshape(n_features,)\n",
    "        \n",
    "    return x,y"
   ]
  },
  {
   "cell_type": "code",
   "execution_count": 643,
   "id": "dee76d8f",
   "metadata": {},
   "outputs": [
    {
     "name": "stdout",
     "output_type": "stream",
     "text": [
      "143106\n"
     ]
    }
   ],
   "source": [
    "x,y=prepare_data(data,100)\n",
    "print(len(y))\n",
    "x=x.T"
   ]
  },
  {
   "cell_type": "code",
   "execution_count": 644,
   "id": "c6302865",
   "metadata": {},
   "outputs": [
    {
     "name": "stdout",
     "output_type": "stream",
     "text": [
      "(143106, 100)\n",
      "[[5062. 5027. 5045. ... 4322. 4306. 4374.]\n",
      " [5172. 5062. 5027. ... 4359. 4322. 4306.]\n",
      " [5516. 5172. 5062. ... 4436. 4359. 4322.]\n",
      " ...\n",
      " [6496. 6545. 6693. ... 6454. 6632. 6688.]\n",
      " [6325. 6496. 6545. ... 6257. 6454. 6632.]\n",
      " [5892. 6325. 6496. ... 6034. 6257. 6454.]]\n"
     ]
    }
   ],
   "source": [
    "x=x[:,::-1]\n",
    "print(x.shape)\n",
    "print(x)"
   ]
  },
  {
   "cell_type": "code",
   "execution_count": 645,
   "id": "afe0b6cb",
   "metadata": {},
   "outputs": [
    {
     "data": {
      "text/plain": [
       "'Here,each column of x contains 100 features or we can say that the x matrix is of the form (n,m) where n is the \\nnumber of features(100) and n is the number of features(here,100) '"
      ]
     },
     "execution_count": 645,
     "metadata": {},
     "output_type": "execute_result"
    }
   ],
   "source": [
    "'''Here,each column of x contains 100 features or we can say that the x matrix is of the form (n,m) where n is the \n",
    "number of features(100) and n is the number of features(here,100) '''"
   ]
  },
  {
   "cell_type": "code",
   "execution_count": 646,
   "id": "16d96c29",
   "metadata": {},
   "outputs": [],
   "source": [
    "def gen_features(data,feature_dim):\n",
    "    new_df = pd.DataFrame()\n",
    "    # create columns for the previous 100 values as features\n",
    "    for i in range(1,feature_dim+1):\n",
    "        new_df['feature_' + str(i)] = df['values'].shift(i)\n",
    "\n",
    "    # add the current value as the label\n",
    "    new_df['label'] = df['values']\n",
    "\n",
    "    # drop the first 100 rows since they don't have enough previous values to create features\n",
    "    new_df.dropna(inplace=True)\n",
    "\n",
    "    # reset the index of the new dataframe\n",
    "    new_df.reset_index(drop=True, inplace=True)\n",
    "    return new_df"
   ]
  },
  {
   "cell_type": "code",
   "execution_count": 647,
   "id": "7885e182",
   "metadata": {},
   "outputs": [
    {
     "name": "stderr",
     "output_type": "stream",
     "text": [
      "/tmp/ipykernel_11324/2534720155.py:8: PerformanceWarning: DataFrame is highly fragmented.  This is usually the result of calling `frame.insert` many times, which has poor performance.  Consider joining all columns at once using pd.concat(axis=1) instead. To get a de-fragmented frame, use `newframe = frame.copy()`\n",
      "  new_df['label'] = df['values']\n"
     ]
    },
    {
     "data": {
      "text/html": [
       "<div>\n",
       "<style scoped>\n",
       "    .dataframe tbody tr th:only-of-type {\n",
       "        vertical-align: middle;\n",
       "    }\n",
       "\n",
       "    .dataframe tbody tr th {\n",
       "        vertical-align: top;\n",
       "    }\n",
       "\n",
       "    .dataframe thead th {\n",
       "        text-align: right;\n",
       "    }\n",
       "</style>\n",
       "<table border=\"1\" class=\"dataframe\">\n",
       "  <thead>\n",
       "    <tr style=\"text-align: right;\">\n",
       "      <th></th>\n",
       "      <th>feature_1</th>\n",
       "      <th>feature_2</th>\n",
       "      <th>feature_3</th>\n",
       "      <th>feature_4</th>\n",
       "      <th>feature_5</th>\n",
       "      <th>feature_6</th>\n",
       "      <th>feature_7</th>\n",
       "      <th>feature_8</th>\n",
       "      <th>feature_9</th>\n",
       "      <th>feature_10</th>\n",
       "      <th>...</th>\n",
       "      <th>feature_92</th>\n",
       "      <th>feature_93</th>\n",
       "      <th>feature_94</th>\n",
       "      <th>feature_95</th>\n",
       "      <th>feature_96</th>\n",
       "      <th>feature_97</th>\n",
       "      <th>feature_98</th>\n",
       "      <th>feature_99</th>\n",
       "      <th>feature_100</th>\n",
       "      <th>label</th>\n",
       "    </tr>\n",
       "  </thead>\n",
       "  <tbody>\n",
       "    <tr>\n",
       "      <th>0</th>\n",
       "      <td>5062.0</td>\n",
       "      <td>5027.0</td>\n",
       "      <td>5045.0</td>\n",
       "      <td>5140.0</td>\n",
       "      <td>5266.0</td>\n",
       "      <td>5634.0</td>\n",
       "      <td>6053.0</td>\n",
       "      <td>6245.0</td>\n",
       "      <td>6254.0</td>\n",
       "      <td>5852.0</td>\n",
       "      <td>...</td>\n",
       "      <td>5616.0</td>\n",
       "      <td>5482.0</td>\n",
       "      <td>5180.0</td>\n",
       "      <td>4723.0</td>\n",
       "      <td>4436.0</td>\n",
       "      <td>4359.0</td>\n",
       "      <td>4322.0</td>\n",
       "      <td>4306.0</td>\n",
       "      <td>4374.0</td>\n",
       "      <td>5172.0</td>\n",
       "    </tr>\n",
       "    <tr>\n",
       "      <th>1</th>\n",
       "      <td>5172.0</td>\n",
       "      <td>5062.0</td>\n",
       "      <td>5027.0</td>\n",
       "      <td>5045.0</td>\n",
       "      <td>5140.0</td>\n",
       "      <td>5266.0</td>\n",
       "      <td>5634.0</td>\n",
       "      <td>6053.0</td>\n",
       "      <td>6245.0</td>\n",
       "      <td>6254.0</td>\n",
       "      <td>...</td>\n",
       "      <td>5722.0</td>\n",
       "      <td>5616.0</td>\n",
       "      <td>5482.0</td>\n",
       "      <td>5180.0</td>\n",
       "      <td>4723.0</td>\n",
       "      <td>4436.0</td>\n",
       "      <td>4359.0</td>\n",
       "      <td>4322.0</td>\n",
       "      <td>4306.0</td>\n",
       "      <td>5516.0</td>\n",
       "    </tr>\n",
       "    <tr>\n",
       "      <th>2</th>\n",
       "      <td>5516.0</td>\n",
       "      <td>5172.0</td>\n",
       "      <td>5062.0</td>\n",
       "      <td>5027.0</td>\n",
       "      <td>5045.0</td>\n",
       "      <td>5140.0</td>\n",
       "      <td>5266.0</td>\n",
       "      <td>5634.0</td>\n",
       "      <td>6053.0</td>\n",
       "      <td>6245.0</td>\n",
       "      <td>...</td>\n",
       "      <td>5783.0</td>\n",
       "      <td>5722.0</td>\n",
       "      <td>5616.0</td>\n",
       "      <td>5482.0</td>\n",
       "      <td>5180.0</td>\n",
       "      <td>4723.0</td>\n",
       "      <td>4436.0</td>\n",
       "      <td>4359.0</td>\n",
       "      <td>4322.0</td>\n",
       "      <td>5962.0</td>\n",
       "    </tr>\n",
       "    <tr>\n",
       "      <th>3</th>\n",
       "      <td>5962.0</td>\n",
       "      <td>5516.0</td>\n",
       "      <td>5172.0</td>\n",
       "      <td>5062.0</td>\n",
       "      <td>5027.0</td>\n",
       "      <td>5045.0</td>\n",
       "      <td>5140.0</td>\n",
       "      <td>5266.0</td>\n",
       "      <td>5634.0</td>\n",
       "      <td>6053.0</td>\n",
       "      <td>...</td>\n",
       "      <td>5683.0</td>\n",
       "      <td>5783.0</td>\n",
       "      <td>5722.0</td>\n",
       "      <td>5616.0</td>\n",
       "      <td>5482.0</td>\n",
       "      <td>5180.0</td>\n",
       "      <td>4723.0</td>\n",
       "      <td>4436.0</td>\n",
       "      <td>4359.0</td>\n",
       "      <td>6240.0</td>\n",
       "    </tr>\n",
       "    <tr>\n",
       "      <th>4</th>\n",
       "      <td>6240.0</td>\n",
       "      <td>5962.0</td>\n",
       "      <td>5516.0</td>\n",
       "      <td>5172.0</td>\n",
       "      <td>5062.0</td>\n",
       "      <td>5027.0</td>\n",
       "      <td>5045.0</td>\n",
       "      <td>5140.0</td>\n",
       "      <td>5266.0</td>\n",
       "      <td>5634.0</td>\n",
       "      <td>...</td>\n",
       "      <td>5637.0</td>\n",
       "      <td>5683.0</td>\n",
       "      <td>5783.0</td>\n",
       "      <td>5722.0</td>\n",
       "      <td>5616.0</td>\n",
       "      <td>5482.0</td>\n",
       "      <td>5180.0</td>\n",
       "      <td>4723.0</td>\n",
       "      <td>4436.0</td>\n",
       "      <td>6113.0</td>\n",
       "    </tr>\n",
       "    <tr>\n",
       "      <th>...</th>\n",
       "      <td>...</td>\n",
       "      <td>...</td>\n",
       "      <td>...</td>\n",
       "      <td>...</td>\n",
       "      <td>...</td>\n",
       "      <td>...</td>\n",
       "      <td>...</td>\n",
       "      <td>...</td>\n",
       "      <td>...</td>\n",
       "      <td>...</td>\n",
       "      <td>...</td>\n",
       "      <td>...</td>\n",
       "      <td>...</td>\n",
       "      <td>...</td>\n",
       "      <td>...</td>\n",
       "      <td>...</td>\n",
       "      <td>...</td>\n",
       "      <td>...</td>\n",
       "      <td>...</td>\n",
       "      <td>...</td>\n",
       "      <td>...</td>\n",
       "    </tr>\n",
       "    <tr>\n",
       "      <th>143101</th>\n",
       "      <td>6693.0</td>\n",
       "      <td>6758.0</td>\n",
       "      <td>6708.0</td>\n",
       "      <td>6627.0</td>\n",
       "      <td>6492.0</td>\n",
       "      <td>6425.0</td>\n",
       "      <td>6299.0</td>\n",
       "      <td>6152.0</td>\n",
       "      <td>6050.0</td>\n",
       "      <td>5775.0</td>\n",
       "      <td>...</td>\n",
       "      <td>5160.0</td>\n",
       "      <td>5612.0</td>\n",
       "      <td>6034.0</td>\n",
       "      <td>6257.0</td>\n",
       "      <td>6454.0</td>\n",
       "      <td>6632.0</td>\n",
       "      <td>6688.0</td>\n",
       "      <td>6566.0</td>\n",
       "      <td>6359.0</td>\n",
       "      <td>6545.0</td>\n",
       "    </tr>\n",
       "    <tr>\n",
       "      <th>143102</th>\n",
       "      <td>6545.0</td>\n",
       "      <td>6693.0</td>\n",
       "      <td>6758.0</td>\n",
       "      <td>6708.0</td>\n",
       "      <td>6627.0</td>\n",
       "      <td>6492.0</td>\n",
       "      <td>6425.0</td>\n",
       "      <td>6299.0</td>\n",
       "      <td>6152.0</td>\n",
       "      <td>6050.0</td>\n",
       "      <td>...</td>\n",
       "      <td>4731.0</td>\n",
       "      <td>5160.0</td>\n",
       "      <td>5612.0</td>\n",
       "      <td>6034.0</td>\n",
       "      <td>6257.0</td>\n",
       "      <td>6454.0</td>\n",
       "      <td>6632.0</td>\n",
       "      <td>6688.0</td>\n",
       "      <td>6566.0</td>\n",
       "      <td>6496.0</td>\n",
       "    </tr>\n",
       "    <tr>\n",
       "      <th>143103</th>\n",
       "      <td>6496.0</td>\n",
       "      <td>6545.0</td>\n",
       "      <td>6693.0</td>\n",
       "      <td>6758.0</td>\n",
       "      <td>6708.0</td>\n",
       "      <td>6627.0</td>\n",
       "      <td>6492.0</td>\n",
       "      <td>6425.0</td>\n",
       "      <td>6299.0</td>\n",
       "      <td>6152.0</td>\n",
       "      <td>...</td>\n",
       "      <td>4593.0</td>\n",
       "      <td>4731.0</td>\n",
       "      <td>5160.0</td>\n",
       "      <td>5612.0</td>\n",
       "      <td>6034.0</td>\n",
       "      <td>6257.0</td>\n",
       "      <td>6454.0</td>\n",
       "      <td>6632.0</td>\n",
       "      <td>6688.0</td>\n",
       "      <td>6325.0</td>\n",
       "    </tr>\n",
       "    <tr>\n",
       "      <th>143104</th>\n",
       "      <td>6325.0</td>\n",
       "      <td>6496.0</td>\n",
       "      <td>6545.0</td>\n",
       "      <td>6693.0</td>\n",
       "      <td>6758.0</td>\n",
       "      <td>6708.0</td>\n",
       "      <td>6627.0</td>\n",
       "      <td>6492.0</td>\n",
       "      <td>6425.0</td>\n",
       "      <td>6299.0</td>\n",
       "      <td>...</td>\n",
       "      <td>4416.0</td>\n",
       "      <td>4593.0</td>\n",
       "      <td>4731.0</td>\n",
       "      <td>5160.0</td>\n",
       "      <td>5612.0</td>\n",
       "      <td>6034.0</td>\n",
       "      <td>6257.0</td>\n",
       "      <td>6454.0</td>\n",
       "      <td>6632.0</td>\n",
       "      <td>5892.0</td>\n",
       "    </tr>\n",
       "    <tr>\n",
       "      <th>143105</th>\n",
       "      <td>5892.0</td>\n",
       "      <td>6325.0</td>\n",
       "      <td>6496.0</td>\n",
       "      <td>6545.0</td>\n",
       "      <td>6693.0</td>\n",
       "      <td>6758.0</td>\n",
       "      <td>6708.0</td>\n",
       "      <td>6627.0</td>\n",
       "      <td>6492.0</td>\n",
       "      <td>6425.0</td>\n",
       "      <td>...</td>\n",
       "      <td>4378.0</td>\n",
       "      <td>4416.0</td>\n",
       "      <td>4593.0</td>\n",
       "      <td>4731.0</td>\n",
       "      <td>5160.0</td>\n",
       "      <td>5612.0</td>\n",
       "      <td>6034.0</td>\n",
       "      <td>6257.0</td>\n",
       "      <td>6454.0</td>\n",
       "      <td>5489.0</td>\n",
       "    </tr>\n",
       "  </tbody>\n",
       "</table>\n",
       "<p>143106 rows × 101 columns</p>\n",
       "</div>"
      ],
      "text/plain": [
       "        feature_1  feature_2  feature_3  feature_4  feature_5  feature_6  \\\n",
       "0          5062.0     5027.0     5045.0     5140.0     5266.0     5634.0   \n",
       "1          5172.0     5062.0     5027.0     5045.0     5140.0     5266.0   \n",
       "2          5516.0     5172.0     5062.0     5027.0     5045.0     5140.0   \n",
       "3          5962.0     5516.0     5172.0     5062.0     5027.0     5045.0   \n",
       "4          6240.0     5962.0     5516.0     5172.0     5062.0     5027.0   \n",
       "...           ...        ...        ...        ...        ...        ...   \n",
       "143101     6693.0     6758.0     6708.0     6627.0     6492.0     6425.0   \n",
       "143102     6545.0     6693.0     6758.0     6708.0     6627.0     6492.0   \n",
       "143103     6496.0     6545.0     6693.0     6758.0     6708.0     6627.0   \n",
       "143104     6325.0     6496.0     6545.0     6693.0     6758.0     6708.0   \n",
       "143105     5892.0     6325.0     6496.0     6545.0     6693.0     6758.0   \n",
       "\n",
       "        feature_7  feature_8  feature_9  feature_10  ...  feature_92  \\\n",
       "0          6053.0     6245.0     6254.0      5852.0  ...      5616.0   \n",
       "1          5634.0     6053.0     6245.0      6254.0  ...      5722.0   \n",
       "2          5266.0     5634.0     6053.0      6245.0  ...      5783.0   \n",
       "3          5140.0     5266.0     5634.0      6053.0  ...      5683.0   \n",
       "4          5045.0     5140.0     5266.0      5634.0  ...      5637.0   \n",
       "...           ...        ...        ...         ...  ...         ...   \n",
       "143101     6299.0     6152.0     6050.0      5775.0  ...      5160.0   \n",
       "143102     6425.0     6299.0     6152.0      6050.0  ...      4731.0   \n",
       "143103     6492.0     6425.0     6299.0      6152.0  ...      4593.0   \n",
       "143104     6627.0     6492.0     6425.0      6299.0  ...      4416.0   \n",
       "143105     6708.0     6627.0     6492.0      6425.0  ...      4378.0   \n",
       "\n",
       "        feature_93  feature_94  feature_95  feature_96  feature_97  \\\n",
       "0           5482.0      5180.0      4723.0      4436.0      4359.0   \n",
       "1           5616.0      5482.0      5180.0      4723.0      4436.0   \n",
       "2           5722.0      5616.0      5482.0      5180.0      4723.0   \n",
       "3           5783.0      5722.0      5616.0      5482.0      5180.0   \n",
       "4           5683.0      5783.0      5722.0      5616.0      5482.0   \n",
       "...            ...         ...         ...         ...         ...   \n",
       "143101      5612.0      6034.0      6257.0      6454.0      6632.0   \n",
       "143102      5160.0      5612.0      6034.0      6257.0      6454.0   \n",
       "143103      4731.0      5160.0      5612.0      6034.0      6257.0   \n",
       "143104      4593.0      4731.0      5160.0      5612.0      6034.0   \n",
       "143105      4416.0      4593.0      4731.0      5160.0      5612.0   \n",
       "\n",
       "        feature_98  feature_99  feature_100   label  \n",
       "0           4322.0      4306.0       4374.0  5172.0  \n",
       "1           4359.0      4322.0       4306.0  5516.0  \n",
       "2           4436.0      4359.0       4322.0  5962.0  \n",
       "3           4723.0      4436.0       4359.0  6240.0  \n",
       "4           5180.0      4723.0       4436.0  6113.0  \n",
       "...            ...         ...          ...     ...  \n",
       "143101      6688.0      6566.0       6359.0  6545.0  \n",
       "143102      6632.0      6688.0       6566.0  6496.0  \n",
       "143103      6454.0      6632.0       6688.0  6325.0  \n",
       "143104      6257.0      6454.0       6632.0  5892.0  \n",
       "143105      6034.0      6257.0       6454.0  5489.0  \n",
       "\n",
       "[143106 rows x 101 columns]"
      ]
     },
     "execution_count": 647,
     "metadata": {},
     "output_type": "execute_result"
    }
   ],
   "source": [
    "feature_dim=100\n",
    "data_final=gen_features(df,feature_dim)\n",
    "data_final"
   ]
  },
  {
   "cell_type": "code",
   "execution_count": 648,
   "id": "44da816a",
   "metadata": {},
   "outputs": [
    {
     "name": "stdout",
     "output_type": "stream",
     "text": [
      "(143106, 101)\n"
     ]
    }
   ],
   "source": [
    "print(data_final.shape)"
   ]
  },
  {
   "cell_type": "code",
   "execution_count": 649,
   "id": "4319e48c",
   "metadata": {},
   "outputs": [],
   "source": [
    "values=data_final.iloc[:,-1]"
   ]
  },
  {
   "cell_type": "code",
   "execution_count": 650,
   "id": "c6fdbebb",
   "metadata": {},
   "outputs": [
    {
     "data": {
      "text/plain": [
       "0         5172.0\n",
       "1         5516.0\n",
       "2         5962.0\n",
       "3         6240.0\n",
       "4         6113.0\n",
       "           ...  \n",
       "143101    6545.0\n",
       "143102    6496.0\n",
       "143103    6325.0\n",
       "143104    5892.0\n",
       "143105    5489.0\n",
       "Name: label, Length: 143106, dtype: float64"
      ]
     },
     "execution_count": 650,
     "metadata": {},
     "output_type": "execute_result"
    }
   ],
   "source": [
    "values"
   ]
  },
  {
   "cell_type": "code",
   "execution_count": 651,
   "id": "afdd094b",
   "metadata": {},
   "outputs": [],
   "source": [
    "values=np.array(values)"
   ]
  },
  {
   "cell_type": "code",
   "execution_count": 652,
   "id": "dd67256a",
   "metadata": {},
   "outputs": [],
   "source": [
    "m=values.shape[0]\n",
    "values=values.reshape(m,1)"
   ]
  },
  {
   "cell_type": "code",
   "execution_count": 653,
   "id": "c58aed62",
   "metadata": {},
   "outputs": [
    {
     "data": {
      "text/plain": [
       "(143106, 1)"
      ]
     },
     "execution_count": 653,
     "metadata": {},
     "output_type": "execute_result"
    }
   ],
   "source": [
    "values.shape"
   ]
  },
  {
   "cell_type": "code",
   "execution_count": 654,
   "id": "36f892a2",
   "metadata": {},
   "outputs": [],
   "source": [
    "data_final = data_final.drop('label', axis=1)\n",
    "data_final=np.array(data_final)"
   ]
  },
  {
   "cell_type": "code",
   "execution_count": 655,
   "id": "d0439c02",
   "metadata": {},
   "outputs": [
    {
     "data": {
      "text/plain": [
       "(143106, 100)"
      ]
     },
     "execution_count": 655,
     "metadata": {},
     "output_type": "execute_result"
    }
   ],
   "source": [
    "data_final=np.array(data_final)\n",
    "data_final.shape"
   ]
  },
  {
   "cell_type": "markdown",
   "id": "45ec74c5",
   "metadata": {},
   "source": [
    "#### SPLITTING THE DATASET INTO TRAIN,TEST AND VALIDATION DATASETS"
   ]
  },
  {
   "cell_type": "code",
   "execution_count": 656,
   "id": "8ae81f34",
   "metadata": {},
   "outputs": [],
   "source": [
    "X_train,x_test,Y_train,y_test=train_test_split(data_final,values,test_size=0.15,shuffle=False)\n",
    "x_train,x_val,y_train,y_val=train_test_split(X_train,Y_train,test_size=0.15/0.85,shuffle=False)"
   ]
  },
  {
   "cell_type": "code",
   "execution_count": 657,
   "id": "976208e8",
   "metadata": {},
   "outputs": [
    {
     "name": "stdout",
     "output_type": "stream",
     "text": [
      "(100174, 100)\n",
      "(21466, 100)\n",
      "(21466, 100)\n",
      "(100174, 1)\n",
      "(21466, 1)\n",
      "(21466, 1)\n",
      "[[5062. 5027. 5045. ... 4322. 4306. 4374.]\n",
      " [5172. 5062. 5027. ... 4359. 4322. 4306.]\n",
      " [5516. 5172. 5062. ... 4436. 4359. 4322.]\n",
      " ...\n",
      " [5221. 5651. 6082. ... 5757. 6144. 6130.]\n",
      " [4655. 5221. 5651. ... 5306. 5757. 6144.]\n",
      " [4318. 4655. 5221. ... 4815. 5306. 5757.]]\n"
     ]
    }
   ],
   "source": [
    "print(x_train.shape)\n",
    "print(x_test.shape)\n",
    "print(x_val.shape)\n",
    "print(y_train.shape)\n",
    "print(y_test.shape)\n",
    "print(y_val.shape)\n",
    "print(x_train)"
   ]
  },
  {
   "cell_type": "code",
   "execution_count": 658,
   "id": "5f889fce",
   "metadata": {},
   "outputs": [],
   "source": [
    "'''Normalising data'''\n",
    "scaler=StandardScaler()\n",
    "x_train_norm=scaler.fit_transform(x_train)\n",
    "x_test_norm=scaler.transform(x_test)\n",
    "x_val_norm=scaler.transform(x_val)\n",
    "y_train_norm=scaler.fit_transform(y_train)\n",
    "y_test_norm=scaler.transform(y_test)\n",
    "y_val_norm=scaler.transform(y_val)"
   ]
  },
  {
   "cell_type": "code",
   "execution_count": 659,
   "id": "b15b9edd",
   "metadata": {},
   "outputs": [
    {
     "name": "stdout",
     "output_type": "stream",
     "text": [
      "(100174, 100)\n",
      "(21466, 100)\n",
      "(21466, 100)\n",
      "(100174, 1)\n",
      "(21466, 1)\n",
      "(21466, 1)\n",
      "[[-0.56001169 -0.59651674 -0.57775445 ... -1.3325898  -1.34926606\n",
      "  -1.27831737]\n",
      " [-0.44531811 -0.56002306 -0.59652269 ... -1.29399577 -1.33257685\n",
      "  -1.34924599]\n",
      " [-0.08664    -0.44532866 -0.5600289  ... -1.21367846 -1.29398304\n",
      "  -1.3325569 ]\n",
      " ...\n",
      " [-0.39422733  0.05411331  0.50350437 ...  0.16423276  0.5679075\n",
      "   0.55330989]\n",
      " [-0.98437795 -0.39423752  0.05410943 ... -0.30619719  0.16423711\n",
      "   0.56791284]\n",
      " [-1.33575738 -0.98439234 -0.39424283 ... -0.81835042 -0.30619013\n",
      "   0.16424555]]\n"
     ]
    }
   ],
   "source": [
    "print(x_train_norm.shape)\n",
    "print(x_test_norm.shape)\n",
    "print(x_val_norm.shape)\n",
    "print(y_train_norm.shape)\n",
    "print(y_test_norm.shape)\n",
    "print(y_val_norm.shape)\n",
    "print(x_train_norm)"
   ]
  },
  {
   "cell_type": "code",
   "execution_count": 660,
   "id": "fbb01a2f",
   "metadata": {},
   "outputs": [
    {
     "name": "stdout",
     "output_type": "stream",
     "text": [
      "<class 'torch.Tensor'>\n"
     ]
    }
   ],
   "source": [
    "'''Initializing tensors'''\n",
    "x_train_norm=torch.tensor(x_train_norm,dtype=torch.float)\n",
    "x_test_norm=torch.tensor(x_test_norm,dtype=torch.float)\n",
    "x_val_norm=torch.tensor(x_val_norm,dtype=torch.float)\n",
    "y_train_norm=torch.tensor(y_train_norm,dtype=torch.float)\n",
    "y_test_norm=torch.tensor(y_test_norm,dtype=torch.float)\n",
    "y_val_norm=torch.tensor(y_val_norm,dtype=torch.float)\n",
    "print(type(x_train_norm))"
   ]
  },
  {
   "cell_type": "code",
   "execution_count": 661,
   "id": "c50ef4bf",
   "metadata": {},
   "outputs": [
    {
     "data": {
      "text/plain": [
       "'detach() is called to avoid the backprop to pass through it.out,ho are the 2 outputs obtained when forward \\npropagation is called on rnn.\\nThe dimension of out is (batch-size,sequence_length(input_dim),hidden_dim), which\\nbasically contains the output at each timestep of the sequence.\\nThe dimension of h_n is (layer-dim,batch_size,hidden_dim),which conains the final hidden state of rnn. This can \\nbe used as an initial state for another rnn instance to continue the sequence.\\nNote that the dimension of x is in the form (batch_size,input_dim) or (m,n)'"
      ]
     },
     "execution_count": 661,
     "metadata": {},
     "output_type": "execute_result"
    }
   ],
   "source": [
    "class RNN(nn.Module):\n",
    "    '''This class defines a simple recurrent neural network model(vanilla/elman RNN) which is used here for the \n",
    "    prediction of above given univariate time-series data.\n",
    "    input_dim: dimensionality of input tensor which is the size of the input vector at each time step(here,100)\n",
    "    hidden_dim: dimensionality of the hidden state tensor which is the size of the hidden vector passed from one\n",
    "    timestep to the next(ht-1)\n",
    "    layer_dim: the number of RNN layers in the network.A layer contains a set of recurent cells that process the \n",
    "    input and hidden states to generate the outputs and new hidden states.\n",
    "    '''\n",
    "    def __init__(self, input_dim, hidden_dim, layer_dim, output_dim):\n",
    "        super(RNN, self).__init__()\n",
    "        self.input_dim = input_dim\n",
    "        self.hidden_dim = hidden_dim\n",
    "        self.layer_dim = layer_dim\n",
    "        self.output_dim = output_dim\n",
    "        self.rnn = nn.RNN(input_dim, hidden_dim, layer_dim, batch_first=True)\n",
    "        self.fully_connected = nn.Linear(hidden_dim, output_dim)\n",
    "\n",
    "        \n",
    "    '''forward propagation'''\n",
    "    def forward(self,x):\n",
    "        '''takes tensor x as input and computes the forward propagation'''\n",
    "        h0=torch.zeros(self.layer_dim,x.size(0),self.hidden_dim,device=x.device,requires_grad=True,dtype=torch.float)\n",
    "        out,h_n=self.rnn(x,h0.detach())\n",
    "        out=out[:,-1,:]\n",
    "        out=self.fully_connected(out)\n",
    "        return out\n",
    "        \n",
    "'''detach() is called to avoid the backprop to pass through it.out,ho are the 2 outputs obtained when forward \n",
    "propagation is called on rnn.\n",
    "The dimension of out is (batch-size,sequence_length(input_dim),hidden_dim), which\n",
    "basically contains the output at each timestep of the sequence.\n",
    "The dimension of h_n is (layer-dim,batch_size,hidden_dim),which conains the final hidden state of rnn. This can \n",
    "be used as an initial state for another rnn instance to continue the sequence.\n",
    "Note that the dimension of x is in the form (batch_size,input_dim) or (m,n)''' \n",
    "        \n",
    "    "
   ]
  },
  {
   "cell_type": "code",
   "execution_count": 662,
   "id": "82ab91d9",
   "metadata": {},
   "outputs": [],
   "source": [
    "def dataloader(x,y,batch_size):\n",
    "    '''Assigning data to dataloader'''\n",
    "    combined=TensorDataset(x,y)\n",
    "    loader = DataLoader(combined, batch_size=batch_size, shuffle=False, drop_last=True)\n",
    "    return loader"
   ]
  },
  {
   "cell_type": "code",
   "execution_count": 663,
   "id": "f5747b6f",
   "metadata": {},
   "outputs": [],
   "source": [
    "def training(model,learning_rate,epochs,weight_decay,batch_size,train_loader,val_loader):\n",
    "    '''This function can be used to train the model and evaluate the performance of the model by finding the \n",
    "    train loss and validation losses. Here, Mean squared error function and r2-score is used as the\n",
    "    evaluation criteria.'''\n",
    "    \n",
    "    criterion=nn.MSELoss()\n",
    "    optimizer=torch.optim.Adam(model.parameters(),lr=learning_rate,weight_decay=weight_decay)\n",
    "    training_losses=[]\n",
    "    validation_losses=[]\n",
    "    r2_train=[]\n",
    "    r2_val=[]\n",
    "    for epoch in range(1,epochs+1):\n",
    "        batch_losses=[]\n",
    "        batch_r2=[]\n",
    "        for x_batch,y_batch in train_loader:\n",
    "            x_batch=x_batch.view(batch_size,-1,input_dim)\n",
    "            '''here 1 is input size which is the no of features or dimensions in each time step of the input \n",
    "            sequence.Here,is is 1(univariate problem).So ,we have to convert the input to 3d Tensor as well, \n",
    "            since the h matrices will be 3-dimensional and there will be mismatch.Thats why a shape change is \n",
    "            given to the input data with -1. When we are giving a 1 dimension in the above tensor, it explicitly \n",
    "            sets the second dimension to1, while x.view(a,-1,b) automatically determines the size of the second \n",
    "            dimension based on the other specified dimensions and the total number of elements in the tensor.'''\n",
    "            x_batch=x_batch.to(device)\n",
    "            y_batch=y_batch.to(device)\n",
    "            model.train()\n",
    "            yhat_batch=model(x_batch)\n",
    "            loss=criterion(y_batch,yhat_batch)\n",
    "            optimizer.zero_grad()\n",
    "            loss.backward()\n",
    "            optimizer.step()\n",
    "            \n",
    "            batch_losses.append(loss.item())\n",
    "            r2score_train=r2_score(y_batch.detach().cpu().numpy(),yhat_batch.detach().cpu().numpy())\n",
    "            batch_r2.append(r2score_train)\n",
    "            \n",
    "        train_loss=np.mean(batch_losses)\n",
    "        training_losses.append(train_loss)\n",
    "        r2_score_train=np.mean(r2score_train)\n",
    "        r2_train.append(r2_score_train)\n",
    "        \n",
    "        with torch.no_grad():\n",
    "            batch_val_losses=[]\n",
    "            batch_val_r2=[]\n",
    "            for x_val,y_val in val_loader:\n",
    "                x_val=x_val.view(batch_size,-1,input_dim)\n",
    "                x_val=x_val.to(device)\n",
    "                y_val=y_val.to(device)\n",
    "                model.eval()\n",
    "                yhat_val=model(x_val)\n",
    "                val_loss=criterion(y_val,yhat_val)\n",
    "                \n",
    "                batch_val_losses.append(val_loss.item())\n",
    "                r2score_val=r2_score(y_val.detach().cpu().numpy(),yhat_val.detach().cpu().numpy())\n",
    "                batch_val_r2.append(r2score_train)\n",
    "                \n",
    "            validation_loss=np.mean(batch_val_losses)\n",
    "            validation_losses.append(validation_loss)\n",
    "            r2_score_val=np.mean(r2score_val)\n",
    "            r2_val.append(r2_score_val)\n",
    "        if (epoch <= epochs) | (epoch % 50 == 0):\n",
    "            print(f\"[{epoch}/{epochs}] Training loss: {train_loss:.4f}\\t Validation loss: {validation_loss:.4f}\")\n",
    "            \n",
    "    \n",
    "    return training_losses,validation_losses,r2_train,r2_val\n",
    "    "
   ]
  },
  {
   "cell_type": "code",
   "execution_count": 664,
   "id": "7f4f0784",
   "metadata": {},
   "outputs": [],
   "source": [
    "def plot_loss(train_loss,val_loss):\n",
    "    plt.style.use('ggplot')\n",
    "    plt.figure(figsize=(5,5))\n",
    "    plt.plot(train_loss,label='Training Loss')\n",
    "    plt.plot(val_loss,label='Validation loss')\n",
    "    plt.legend()\n",
    "    plt.title('Losses')\n",
    "    plt.show()\n",
    "    plt.close()\n",
    "        "
   ]
  },
  {
   "cell_type": "code",
   "execution_count": 669,
   "id": "a70f7725",
   "metadata": {},
   "outputs": [
    {
     "name": "stdout",
     "output_type": "stream",
     "text": [
      "[1/30] Training loss: 0.0446\t Validation loss: 0.0460\n",
      "[2/30] Training loss: 0.0268\t Validation loss: 0.0403\n",
      "[3/30] Training loss: 0.0241\t Validation loss: 0.0361\n",
      "[4/30] Training loss: 0.0221\t Validation loss: 0.0334\n",
      "[5/30] Training loss: 0.0201\t Validation loss: 0.0317\n",
      "[6/30] Training loss: 0.0186\t Validation loss: 0.0300\n",
      "[7/30] Training loss: 0.0174\t Validation loss: 0.0286\n",
      "[8/30] Training loss: 0.0164\t Validation loss: 0.0273\n",
      "[9/30] Training loss: 0.0155\t Validation loss: 0.0259\n",
      "[10/30] Training loss: 0.0149\t Validation loss: 0.0245\n",
      "[11/30] Training loss: 0.0143\t Validation loss: 0.0231\n",
      "[12/30] Training loss: 0.0138\t Validation loss: 0.0218\n",
      "[13/30] Training loss: 0.0134\t Validation loss: 0.0207\n",
      "[14/30] Training loss: 0.0131\t Validation loss: 0.0199\n",
      "[15/30] Training loss: 0.0128\t Validation loss: 0.0193\n",
      "[16/30] Training loss: 0.0125\t Validation loss: 0.0187\n",
      "[17/30] Training loss: 0.0122\t Validation loss: 0.0183\n",
      "[18/30] Training loss: 0.0119\t Validation loss: 0.0178\n",
      "[19/30] Training loss: 0.0116\t Validation loss: 0.0174\n",
      "[20/30] Training loss: 0.0113\t Validation loss: 0.0172\n",
      "[21/30] Training loss: 0.0110\t Validation loss: 0.0170\n",
      "[22/30] Training loss: 0.0107\t Validation loss: 0.0168\n",
      "[23/30] Training loss: 0.0105\t Validation loss: 0.0166\n",
      "[24/30] Training loss: 0.0103\t Validation loss: 0.0165\n",
      "[25/30] Training loss: 0.0101\t Validation loss: 0.0163\n",
      "[26/30] Training loss: 0.0099\t Validation loss: 0.0161\n",
      "[27/30] Training loss: 0.0098\t Validation loss: 0.0160\n",
      "[28/30] Training loss: 0.0097\t Validation loss: 0.0159\n",
      "[29/30] Training loss: 0.0095\t Validation loss: 0.0160\n",
      "[30/30] Training loss: 0.0095\t Validation loss: 0.0160\n"
     ]
    },
    {
     "data": {
      "image/png": "[encoded data removed]",
      "text/plain": [
       "<Figure size 500x500 with 1 Axes>"
      ]
     },
     "metadata": {},
     "output_type": "display_data"
    }
   ],
   "source": [
    "'''training the model'''\n",
    "'''This model is flexible to change the number of hidden layers and number of neurons in the hidden layers also.\n",
    "There is a fully connected layer and the number of neurons is given as one since we need a single prediction.\n",
    "Based on the requirements, it can also be changed as well.\n",
    "The data loader function can be used to'''\n",
    "input_dim=x_train.shape[1]\n",
    "output_dim=1\n",
    "hidden_dim=64\n",
    "layer_dim=1\n",
    "batch_size=64\n",
    "epochs=30\n",
    "learning_rate=1e-3\n",
    "weight_decay=1e-5\n",
    "model=RNN(input_dim,hidden_dim,layer_dim,output_dim)\n",
    "model.cuda() # when we are using the gpu through cuda,all the data,parameters and the model created should be \n",
    "#assigned to cuda by using this function call.\n",
    "train_loader=dataloader(x_train_norm,y_train_norm,batch_size)\n",
    "val_loader=dataloader(x_val_norm,y_val_norm,batch_size)\n",
    "train_loss,validation_loss,r2_train,r2_val=training(model,learning_rate,epochs,weight_decay,\n",
    "                                                batch_size,train_loader,val_loader)\n",
    "plot_loss(train_loss,validation_loss)"
   ]
  },
  {
   "cell_type": "code",
   "execution_count": 670,
   "id": "47585f90",
   "metadata": {},
   "outputs": [],
   "source": [
    "def plot_r2score(r2_train,r2_val):\n",
    "    plt.figure(figsize=(5,3))\n",
    "    plt.plot(r2_train,label='R2-score(train)')\n",
    "    plt.plot(r2_val,label='R2-score(validation)')\n",
    "    plt.legend()\n",
    "    plt.title('R2-SCORE')\n",
    "    plt.show()\n",
    "    plt.close()\n",
    "        "
   ]
  },
  {
   "cell_type": "code",
   "execution_count": 671,
   "id": "a4c2a7c1",
   "metadata": {},
   "outputs": [
    {
     "data": {
      "image/png": "[encoded data removed]",
      "text/plain": [
       "<Figure size 500x300 with 1 Axes>"
      ]
     },
     "metadata": {},
     "output_type": "display_data"
    }
   ],
   "source": [
    "plot_r2score(r2_train,r2_val)"
   ]
  },
  {
   "cell_type": "code",
   "execution_count": 672,
   "id": "8de013b1",
   "metadata": {},
   "outputs": [
    {
     "name": "stdout",
     "output_type": "stream",
     "text": [
      "The mean square error loss of given test data is 0.013283788294656509\n",
      "The R2-score of given test data is 0.9583536157475043\n",
      "The root mean square error loss of given test data is 0.11525531785846807\n"
     ]
    }
   ],
   "source": [
    "'''predictions on the test data using dataloader(not required,just for comparison)'''\n",
    "test_loader=dataloader(x_test_norm,y_test_norm,batch_size=64)\n",
    "criterion=nn.MSELoss()\n",
    "optimizer=torch.optim.Adam(model.parameters(),lr=learning_rate,weight_decay=weight_decay)\n",
    "test_loss=[]\n",
    "test_r2=[]\n",
    "for x_test_batch,y_test_batch in test_loader:\n",
    "    x_test_batch=x_test_batch.view(batch_size,-1,input_dim)\n",
    "    x_test_batch=x_test_batch.to(device)\n",
    "    y_test_batch=y_test_batch.to(device)\n",
    "    model.eval()\n",
    "    yhat_test=model(x_test_batch)\n",
    "    testbatchloss=criterion(y_test_batch,yhat_test)\n",
    "    test_loss.append(testbatchloss.item())\n",
    "    r2score_test=r2_score(y_test_batch.detach().cpu().numpy(),yhat_test.detach().cpu().numpy())\n",
    "    test_r2.append(r2score_test)\n",
    "testing_loss=np.mean(test_loss)\n",
    "test_r2=np.mean(test_r2)\n",
    "print(f'The mean square error loss of given test data is {testing_loss}')\n",
    "print(f'The R2-score of given test data is {test_r2}')\n",
    "print(f'The root mean square error loss of given test data is {testing_loss**(1/2)}')\n",
    "    "
   ]
  },
  {
   "cell_type": "code",
   "execution_count": 673,
   "id": "aec9edb8",
   "metadata": {},
   "outputs": [
    {
     "data": {
      "text/plain": [
       "torch.Size([21466, 100])"
      ]
     },
     "execution_count": 673,
     "metadata": {},
     "output_type": "execute_result"
    }
   ],
   "source": [
    "x_test_norm.shape"
   ]
  },
  {
   "cell_type": "code",
   "execution_count": 690,
   "id": "d49b2727",
   "metadata": {},
   "outputs": [
    {
     "name": "stdout",
     "output_type": "stream",
     "text": [
      "The mean square error loss of given test data is 0.013276323676109314\n",
      "The R2-score of given test data is 0.9874515927427554\n",
      "The mean absolute error loss of given test data is 0.0864560678601265\n",
      "The root mean square error loss of given test data is 0.11522293090820312\n"
     ]
    }
   ],
   "source": [
    "'''prediction on test data taking the whole test data at once'''\n",
    "x_test_norm=x_test_norm.to(device)\n",
    "y_test_norm=y_test_norm.to(device)\n",
    "x_test_norm=x_test_norm.view(x_test_norm.size(0),-1,input_dim)\n",
    "model.eval()\n",
    "yp=model(x_test_norm)\n",
    "testloss=criterion(y_test_norm,yp)\n",
    "r2s_test=r2_score(y_test_norm.detach().cpu().numpy(),yp.detach().cpu().numpy())\n",
    "mean_abs=mean_absolute_error(y_test_norm.detach().cpu().numpy(),yp.detach().cpu().numpy())\n",
    "print(f'The mean square error loss of given test data is {testloss}')\n",
    "print(f'The R2-score of given test data is {r2s_test}')\n",
    "print(f'The mean absolute error loss of given test data is {mean_abs}')\n",
    "print(f'The root mean square error loss of given test data is {testloss**(1/2)}')"
   ]
  },
  {
   "cell_type": "code",
   "execution_count": 675,
   "id": "37b594a8",
   "metadata": {},
   "outputs": [
    {
     "name": "stdout",
     "output_type": "stream",
     "text": [
      "The R2-Score of un-normalised data is :0.9874515904554947\n"
     ]
    }
   ],
   "source": [
    "'''Below given the calculation of r2-score of test data after reverting the normalised data into original data'''\n",
    "original_y_test = scaler.inverse_transform(y_test_norm.detach().cpu().numpy())\n",
    "predicted_y_test=scaler.inverse_transform(yp.detach().cpu().numpy())\n",
    "r2s_test_original=r2_score(original_y_test,predicted_y_test)\n",
    "print(f'The R2-Score of un-normalised data is :{r2s_test_original}')"
   ]
  },
  {
   "cell_type": "code",
   "execution_count": 713,
   "id": "21b4bb56",
   "metadata": {},
   "outputs": [
    {
     "data": {
      "image/png": "[encoded data removed]",
      "text/plain": [
       "<Figure size 500x300 with 1 Axes>"
      ]
     },
     "metadata": {},
     "output_type": "display_data"
    }
   ],
   "source": [
    "'''plotting the patterns of test and predicted data'''\n",
    "plt.figure(figsize=(5,3))\n",
    "plt.plot(original_y_test,label='Test data',color='black')\n",
    "plt.plot(predicted_y_test,color='g',label='Predicted data')\n",
    "plt.legend()\n",
    "plt.show()"
   ]
  },
  {
   "cell_type": "code",
   "execution_count": 688,
   "id": "153cb8eb",
   "metadata": {},
   "outputs": [
    {
     "name": "stdout",
     "output_type": "stream",
     "text": [
      "(21466, 2)\n"
     ]
    },
    {
     "data": {
      "text/html": [
       "<div>\n",
       "<style scoped>\n",
       "    .dataframe tbody tr th:only-of-type {\n",
       "        vertical-align: middle;\n",
       "    }\n",
       "\n",
       "    .dataframe tbody tr th {\n",
       "        vertical-align: top;\n",
       "    }\n",
       "\n",
       "    .dataframe thead th {\n",
       "        text-align: right;\n",
       "    }\n",
       "</style>\n",
       "<table border=\"1\" class=\"dataframe\">\n",
       "  <thead>\n",
       "    <tr style=\"text-align: right;\">\n",
       "      <th></th>\n",
       "      <th>True</th>\n",
       "      <th>Predicted</th>\n",
       "    </tr>\n",
       "  </thead>\n",
       "  <tbody>\n",
       "    <tr>\n",
       "      <th>0</th>\n",
       "      <td>4897.0</td>\n",
       "      <td>4838.552246</td>\n",
       "    </tr>\n",
       "    <tr>\n",
       "      <th>1</th>\n",
       "      <td>4765.0</td>\n",
       "      <td>4764.649902</td>\n",
       "    </tr>\n",
       "    <tr>\n",
       "      <th>2</th>\n",
       "      <td>4663.0</td>\n",
       "      <td>4676.861328</td>\n",
       "    </tr>\n",
       "    <tr>\n",
       "      <th>3</th>\n",
       "      <td>4709.0</td>\n",
       "      <td>4673.802246</td>\n",
       "    </tr>\n",
       "    <tr>\n",
       "      <th>4</th>\n",
       "      <td>4802.0</td>\n",
       "      <td>4824.572266</td>\n",
       "    </tr>\n",
       "    <tr>\n",
       "      <th>...</th>\n",
       "      <td>...</td>\n",
       "      <td>...</td>\n",
       "    </tr>\n",
       "    <tr>\n",
       "      <th>21461</th>\n",
       "      <td>6545.0</td>\n",
       "      <td>6546.600586</td>\n",
       "    </tr>\n",
       "    <tr>\n",
       "      <th>21462</th>\n",
       "      <td>6496.0</td>\n",
       "      <td>6432.345215</td>\n",
       "    </tr>\n",
       "    <tr>\n",
       "      <th>21463</th>\n",
       "      <td>6325.0</td>\n",
       "      <td>6359.208984</td>\n",
       "    </tr>\n",
       "    <tr>\n",
       "      <th>21464</th>\n",
       "      <td>5892.0</td>\n",
       "      <td>5935.203125</td>\n",
       "    </tr>\n",
       "    <tr>\n",
       "      <th>21465</th>\n",
       "      <td>5489.0</td>\n",
       "      <td>5475.000977</td>\n",
       "    </tr>\n",
       "  </tbody>\n",
       "</table>\n",
       "<p>21466 rows × 2 columns</p>\n",
       "</div>"
      ],
      "text/plain": [
       "         True    Predicted\n",
       "0      4897.0  4838.552246\n",
       "1      4765.0  4764.649902\n",
       "2      4663.0  4676.861328\n",
       "3      4709.0  4673.802246\n",
       "4      4802.0  4824.572266\n",
       "...       ...          ...\n",
       "21461  6545.0  6546.600586\n",
       "21462  6496.0  6432.345215\n",
       "21463  6325.0  6359.208984\n",
       "21464  5892.0  5935.203125\n",
       "21465  5489.0  5475.000977\n",
       "\n",
       "[21466 rows x 2 columns]"
      ]
     },
     "execution_count": 688,
     "metadata": {},
     "output_type": "execute_result"
    }
   ],
   "source": [
    "'''These are the actual and predicted values of test data'''\n",
    "labels=np.concatenate((original_y_test,predicted_y_test),axis=1)\n",
    "print(labels.shape)\n",
    "labels=pd.DataFrame(labels)\n",
    "labels=labels.rename(columns={0:'True',1:'Predicted'})\n",
    "labels"
   ]
  }
 ],
 "metadata": {
  "kernelspec": {
   "display_name": "Python 3 (ipykernel)",
   "language": "python",
   "name": "python3"
  },
  "language_info": {
   "codemirror_mode": {
    "name": "ipython",
    "version": 3
   },
   "file_extension": ".py",
   "mimetype": "text/x-python",
   "name": "python",
   "nbconvert_exporter": "python",
   "pygments_lexer": "ipython3",
   "version": "3.9.13"
  }
 },
 "nbformat": 4,
 "nbformat_minor": 5
}
